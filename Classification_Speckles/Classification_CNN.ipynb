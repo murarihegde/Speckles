{
  "nbformat": 4,
  "nbformat_minor": 0,
  "metadata": {
    "colab": {
      "name": "Classification_CNN.ipynb",
      "provenance": [],
      "collapsed_sections": []
    },
    "kernelspec": {
      "name": "python3",
      "display_name": "Python 3"
    },
    "language_info": {
      "name": "python"
    }
  },
  "cells": [
    {
      "cell_type": "code",
      "metadata": {
        "id": "x2p8cEH6tB93"
      },
      "source": [
        "import matplotlib.pyplot as plt\n",
        "import numpy as np\n",
        "import torch\n",
        "import torchvision\n",
        "import torchvision.transforms as T\n",
        "import torch.nn as nn\n",
        "from torchvision import datasets\n",
        "\n",
        "from torch.utils.data import DataLoader, Dataset\n",
        "import torch.optim as optim"
      ],
      "execution_count": 1,
      "outputs": []
    },
    {
      "cell_type": "code",
      "metadata": {
        "colab": {
          "base_uri": "https://localhost:8080/"
        },
        "id": "B7o1xgJnIaj3",
        "outputId": "29e6a773-e373-4bcf-9670-5fbadb5cf4cf"
      },
      "source": [
        "from google.colab import drive\n",
        "drive.mount('/gdrive')"
      ],
      "execution_count": 2,
      "outputs": [
        {
          "output_type": "stream",
          "text": [
            "Mounted at /gdrive\n"
          ],
          "name": "stdout"
        }
      ]
    },
    {
      "cell_type": "code",
      "metadata": {
        "colab": {
          "base_uri": "https://localhost:8080/"
        },
        "id": "GLvwHbuitopg",
        "outputId": "117a2859-990d-47c3-db5a-b6d2708289ad"
      },
      "source": [
        "device = torch.device(\"cuda:0\" if torch.cuda.is_available() else \"cpu\")\n",
        "print(device)"
      ],
      "execution_count": 3,
      "outputs": [
        {
          "output_type": "stream",
          "text": [
            "cpu\n"
          ],
          "name": "stdout"
        }
      ]
    },
    {
      "cell_type": "code",
      "metadata": {
        "id": "9XRkPXTD13w_"
      },
      "source": [
        "def get_data():\n",
        "  data_dir = '/gdrive/MyDrive/Studies /Speckle_Image_Practice/Monte Carlo Speakles/data'\n",
        "  transform = T.Compose([\n",
        "      T.ToTensor()\n",
        "  ])\n",
        "  train_set = datasets.ImageFolder(data_dir + '/train', transform=transform)\n",
        "  test_set = datasets.ImageFolder(data_dir + '/t2', transform=transform)\n",
        "  train = DataLoader(train_set, batch_size=4, shuffle=True)\n",
        "  test = DataLoader(test_set, batch_size=4, shuffle=True)\n",
        "\n",
        "  return train, test"
      ],
      "execution_count": 4,
      "outputs": []
    },
    {
      "cell_type": "code",
      "metadata": {
        "id": "wZfurtmb2vRc"
      },
      "source": [
        "def train_imshow():\n",
        "  classes = ('b', 'f', 'i')\n",
        "  dataiter = iter(train)\n",
        "  images, labels = dataiter.next()\n",
        "  fig, axes = plt.subplots(figsize=(10,4), ncols=5)\n",
        "  for i in range(5):\n",
        "    ax = axes[i]\n",
        "    ax.imshow(images[i].permute(1,2,0))\n",
        "    ax.title.set_text(' '.join('%5s' %classes[labels[i]]))\n",
        "    plt.show()\n",
        "train, test = get_data()"
      ],
      "execution_count": 5,
      "outputs": []
    },
    {
      "cell_type": "code",
      "metadata": {
        "id": "3hkvFicYYbts"
      },
      "source": [
        "class LeNet(nn.Module):\n",
        "    def __init__(self): \n",
        "        super(LeNet, self).__init__()\n",
        "        self.cnn_model = nn.Sequential(\n",
        "            nn.Conv2d(3, 6, 5),         # (N, 3, 120, 120) -> (N,  6, 116, 116)\n",
        "            nn.ReLU(),\n",
        "            nn.AvgPool2d(2, stride=2),  # (N, 6, 116, 116) -> (N,  6, 58, 58)\n",
        "            nn.Conv2d(6, 12, 5),        # (N, 6, 58, 58) -> (N, 12, 54, 54)  \n",
        "            nn.ReLU(),\n",
        "            nn.AvgPool2d(2, stride=2),   # (N,12, 54, 54) -> (N, 12, 27, 27)\n",
        "            nn.Conv2d(12, 16, 3, stride=3), # (N, 12, 27, 27) -> (N, 16, 9, 9)\n",
        "            nn.ReLU(),\n",
        "            nn.AvgPool2d(3, 2)   # (N, 16, 9, 9) -> (n, 16, 4,4)\n",
        "            # nn.Conv2d(16, 20, 3, stride=3), # (N, 16, 27, 27) -> (N, 20, 9, 9)\n",
        "            # nn.ReLU()\n",
        "        )\n",
        "\n",
        "        self.fc_model = nn.Sequential(\n",
        "            nn.Linear(16*4*4,120),         # (N, 1620) -> (N, 120)\n",
        "            nn.Tanh(),\n",
        "            nn.Linear(120,32),          # (N, 120) -> (N, 84)\n",
        "            nn.Tanh(),\n",
        "            nn.Linear(32,3),            # (N, 84)  -> (N, 10)\n",
        "            nn.Softmax()\n",
        "        )\n",
        "        \n",
        "    def forward(self, x):\n",
        "        # print(x.shape)\n",
        "        x = self.cnn_model(x)\n",
        "        # print(x.shape)\n",
        "        x = x.view(x.size(0), -1)\n",
        "        # print(x.shape)\n",
        "        x = self.fc_model(x)\n",
        "        # print(x.shape)\n",
        "        return x\n",
        "\n",
        "\n",
        "def evaluation(dataloader):\n",
        "    total, correct = 0, 0\n",
        "    for data in dataloader:\n",
        "        inputs, labels = data\n",
        "        inputs, labels = inputs.to(device), labels.to(device)\n",
        "        outputs = net(inputs)\n",
        "        _, pred = torch.max(outputs.data, 1)\n",
        "        total += labels.size(0)\n",
        "        correct += (pred == labels).sum().item()\n",
        "    return 100 * correct / total\n",
        "net = LeNet().to(device)\n",
        "loss_fn = nn.CrossEntropyLoss()\n",
        "opt = optim.Adam(net.parameters(), 0.0001, (0.9,0.9), 1e-4)\n",
        "# def __init__(params, lr=0.001, betas=(0.9, 0.999), eps=1e-08, weight_decay=0, amsgrad=False)"
      ],
      "execution_count": 6,
      "outputs": []
    },
    {
      "cell_type": "code",
      "metadata": {
        "colab": {
          "base_uri": "https://localhost:8080/"
        },
        "id": "QPvhxmbJ1wap",
        "outputId": "6d2c7558-0fa9-457c-8f6e-1237573a21df"
      },
      "source": [
        "a = 0\n",
        "for item in test:\n",
        "  if a == 0:\n",
        "    input, output = item \n",
        "    print(input.shape)\n",
        "    print(output)\n",
        "    a += 1"
      ],
      "execution_count": 7,
      "outputs": [
        {
          "output_type": "stream",
          "text": [
            "torch.Size([4, 3, 120, 120])\n",
            "tensor([0, 1, 2, 1])\n"
          ],
          "name": "stdout"
        }
      ]
    },
    {
      "cell_type": "code",
      "metadata": {
        "colab": {
          "base_uri": "https://localhost:8080/",
          "height": 1000
        },
        "id": "9gt6Sryy4pKy",
        "outputId": "4311d868-414d-4c00-ada0-8264fb7c91d7"
      },
      "source": [
        "%%time\n",
        "max_epochs = 50\n",
        "loss_epochs_arr = []\n",
        "loss_arr = []\n",
        "for epoch in range(max_epochs):\n",
        "  print(epoch)\n",
        "  for i, data in enumerate(train, 0):\n",
        "    inputs, labels = data\n",
        "    inputs, labels = inputs.to(device), labels.to(device)\n",
        "\n",
        "    opt.zero_grad()\n",
        "\n",
        "    outputs = net(inputs)\n",
        "    loss = loss_fn(outputs, labels)\n",
        "    loss.backward()\n",
        "\n",
        "    opt.step()\n",
        "    loss_arr.append(loss.item())\n",
        "      \n",
        "  loss_epochs_arr.append(loss.item())\n",
        "  print('Epochs: %d/%d, Train acc: %0.2f, Test acc: %0.2f' % (epoch, max_epochs, evaluation(train), evaluation(test)))\n",
        "\n",
        "plt.plot(loss_epochs_arr)\n",
        "plt.show()"
      ],
      "execution_count": 8,
      "outputs": [
        {
          "output_type": "stream",
          "text": [
            "0\n"
          ],
          "name": "stdout"
        },
        {
          "output_type": "stream",
          "text": [
            "/usr/local/lib/python3.7/dist-packages/torch/nn/modules/container.py:139: UserWarning: Implicit dimension choice for softmax has been deprecated. Change the call to include dim=X as an argument.\n",
            "  input = module(input)\n"
          ],
          "name": "stderr"
        },
        {
          "output_type": "stream",
          "text": [
            "Epochs: 0/50, Train acc: 32.61, Test acc: 25.00\n",
            "1\n",
            "Epochs: 1/50, Train acc: 67.39, Test acc: 50.00\n",
            "2\n",
            "Epochs: 2/50, Train acc: 39.13, Test acc: 50.00\n",
            "3\n",
            "Epochs: 3/50, Train acc: 34.78, Test acc: 50.00\n",
            "4\n",
            "Epochs: 4/50, Train acc: 34.78, Test acc: 50.00\n",
            "5\n",
            "Epochs: 5/50, Train acc: 34.78, Test acc: 50.00\n",
            "6\n",
            "Epochs: 6/50, Train acc: 34.78, Test acc: 50.00\n",
            "7\n",
            "Epochs: 7/50, Train acc: 35.87, Test acc: 50.00\n",
            "8\n",
            "Epochs: 8/50, Train acc: 41.30, Test acc: 50.00\n",
            "9\n",
            "Epochs: 9/50, Train acc: 50.00, Test acc: 50.00\n",
            "10\n",
            "Epochs: 10/50, Train acc: 53.26, Test acc: 50.00\n",
            "11\n",
            "Epochs: 11/50, Train acc: 64.13, Test acc: 50.00\n",
            "12\n",
            "Epochs: 12/50, Train acc: 66.30, Test acc: 50.00\n",
            "13\n",
            "Epochs: 13/50, Train acc: 67.39, Test acc: 50.00\n",
            "14\n",
            "Epochs: 14/50, Train acc: 67.39, Test acc: 50.00\n",
            "15\n",
            "Epochs: 15/50, Train acc: 67.39, Test acc: 50.00\n",
            "16\n",
            "Epochs: 16/50, Train acc: 67.39, Test acc: 50.00\n",
            "17\n",
            "Epochs: 17/50, Train acc: 67.39, Test acc: 50.00\n",
            "18\n",
            "Epochs: 18/50, Train acc: 71.74, Test acc: 50.00\n",
            "19\n",
            "Epochs: 19/50, Train acc: 71.74, Test acc: 50.00\n",
            "20\n",
            "Epochs: 20/50, Train acc: 73.91, Test acc: 50.00\n",
            "21\n",
            "Epochs: 21/50, Train acc: 76.09, Test acc: 50.00\n",
            "22\n",
            "Epochs: 22/50, Train acc: 86.96, Test acc: 50.00\n",
            "23\n",
            "Epochs: 23/50, Train acc: 77.17, Test acc: 50.00\n",
            "24\n",
            "Epochs: 24/50, Train acc: 94.57, Test acc: 50.00\n",
            "25\n",
            "Epochs: 25/50, Train acc: 94.57, Test acc: 50.00\n",
            "26\n",
            "Epochs: 26/50, Train acc: 96.74, Test acc: 50.00\n",
            "27\n",
            "Epochs: 27/50, Train acc: 96.74, Test acc: 50.00\n",
            "28\n",
            "Epochs: 28/50, Train acc: 96.74, Test acc: 50.00\n",
            "29\n",
            "Epochs: 29/50, Train acc: 96.74, Test acc: 50.00\n",
            "30\n",
            "Epochs: 30/50, Train acc: 96.74, Test acc: 50.00\n",
            "31\n",
            "Epochs: 31/50, Train acc: 94.57, Test acc: 50.00\n",
            "32\n",
            "Epochs: 32/50, Train acc: 95.65, Test acc: 50.00\n",
            "33\n",
            "Epochs: 33/50, Train acc: 96.74, Test acc: 50.00\n",
            "34\n",
            "Epochs: 34/50, Train acc: 96.74, Test acc: 50.00\n",
            "35\n",
            "Epochs: 35/50, Train acc: 96.74, Test acc: 50.00\n",
            "36\n",
            "Epochs: 36/50, Train acc: 93.48, Test acc: 25.00\n",
            "37\n",
            "Epochs: 37/50, Train acc: 96.74, Test acc: 50.00\n",
            "38\n",
            "Epochs: 38/50, Train acc: 96.74, Test acc: 50.00\n",
            "39\n",
            "Epochs: 39/50, Train acc: 95.65, Test acc: 25.00\n",
            "40\n",
            "Epochs: 40/50, Train acc: 96.74, Test acc: 50.00\n",
            "41\n",
            "Epochs: 41/50, Train acc: 96.74, Test acc: 50.00\n",
            "42\n",
            "Epochs: 42/50, Train acc: 96.74, Test acc: 25.00\n",
            "43\n",
            "Epochs: 43/50, Train acc: 95.65, Test acc: 50.00\n",
            "44\n",
            "Epochs: 44/50, Train acc: 96.74, Test acc: 50.00\n",
            "45\n",
            "Epochs: 45/50, Train acc: 95.65, Test acc: 50.00\n",
            "46\n",
            "Epochs: 46/50, Train acc: 95.65, Test acc: 50.00\n",
            "47\n",
            "Epochs: 47/50, Train acc: 96.74, Test acc: 25.00\n",
            "48\n",
            "Epochs: 48/50, Train acc: 95.65, Test acc: 50.00\n",
            "49\n",
            "Epochs: 49/50, Train acc: 96.74, Test acc: 50.00\n"
          ],
          "name": "stdout"
        },
        {
          "output_type": "display_data",
          "data": {
            "image/png": "[encoded data removed]",
            "text/plain": [
              "<Figure size 432x288 with 1 Axes>"
            ]
          },
          "metadata": {
            "tags": [],
            "needs_background": "light"
          }
        },
        {
          "output_type": "stream",
          "text": [
            "CPU times: user 38.8 s, sys: 2.25 s, total: 41.1 s\n",
            "Wall time: 1min 17s\n"
          ],
          "name": "stdout"
        }
      ]
    },
    {
      "cell_type": "code",
      "metadata": {
        "id": "BQDbhs558v6v"
      },
      "source": [
        "torch.save(net.state_dict(), '/content/model.pkl') # save the model parameters to the disk"
      ],
      "execution_count": null,
      "outputs": []
    },
    {
      "cell_type": "code",
      "metadata": {
        "id": "0gLTq-5fE7v9"
      },
      "source": [
        "from sklearn.metrics import confusion_matrix\n",
        "from sklearn.metrics import classification_report\n",
        "from sklearn.metrics import accuracy_score\n",
        "from sklearn.metrics import precision_score\n",
        "from sklearn.metrics import recall_score\n",
        "from sklearn.metrics import f1_score"
      ],
      "execution_count": 11,
      "outputs": []
    },
    {
      "cell_type": "code",
      "metadata": {
        "id": "CxLiz5oMM9mT",
        "colab": {
          "base_uri": "https://localhost:8080/"
        },
        "outputId": "43017e50-3a25-42bb-d2cd-1a7b1e00f891"
      },
      "source": [
        "    correct = 0 # initialize the number of correct predictions to zero\n",
        "    total = 0 # initialize the total number of predictions to zero\n",
        "    prediction = []\n",
        "    labels_arr = [] \n",
        "    for i, data in enumerate(train, 0): # loop over all the batches in the test data\n",
        "        inputs, labels = data \n",
        "        inputs, labels = inputs.to(device), labels.to(device)\n",
        "        opt.zero_grad()\n",
        "        outputs = net(inputs)\n",
        "        total += labels.size(0) # increment the total number of predictions by the number of labels in the batch\n",
        "        _, pred = torch.max(outputs.data, 1)\n",
        "        # print(_, pred)\n",
        "        correct += (pred == labels).sum() # compare the predicted labels with the actual labels, and increment the correct number of predictions by the number of matches\n",
        "        pred = pred.numpy()\n",
        "        labels = labels.numpy()\n",
        "        prediction.extend(pred)\n",
        "        labels_arr.extend(labels)\n",
        "    print('Accuracy of the network on the 32 test images: %d %%' % (100 * correct / total)) # print the accuracy\\ь\n"
      ],
      "execution_count": 10,
      "outputs": [
        {
          "output_type": "stream",
          "text": [
            "/usr/local/lib/python3.7/dist-packages/torch/nn/modules/container.py:139: UserWarning: Implicit dimension choice for softmax has been deprecated. Change the call to include dim=X as an argument.\n",
            "  input = module(input)\n"
          ],
          "name": "stderr"
        },
        {
          "output_type": "stream",
          "text": [
            "Accuracy of the network on the 32 test images: 96 %\n"
          ],
          "name": "stdout"
        }
      ]
    },
    {
      "cell_type": "code",
      "metadata": {
        "colab": {
          "base_uri": "https://localhost:8080/"
        },
        "id": "2ecrL2xsFfMk",
        "outputId": "9d99a2da-f9b2-49f5-945b-61799768140b"
      },
      "source": [
        "# Create Confusion MatrixTeX\n",
        "cm = confusion_matrix(labels_arr, prediction)\n",
        "print(cm)\n",
        "print(classification_report(labels_arr, prediction))\n",
        "print(accuracy_score(labels_arr, prediction))\n"
      ],
      "execution_count": 12,
      "outputs": [
        {
          "output_type": "stream",
          "text": [
            "[[27  0  3]\n",
            " [ 0 32  0]\n",
            " [ 0  0 30]]\n",
            "              precision    recall  f1-score   support\n",
            "\n",
            "           0       1.00      0.90      0.95        30\n",
            "           1       1.00      1.00      1.00        32\n",
            "           2       0.91      1.00      0.95        30\n",
            "\n",
            "    accuracy                           0.97        92\n",
            "   macro avg       0.97      0.97      0.97        92\n",
            "weighted avg       0.97      0.97      0.97        92\n",
            "\n",
            "0.967391304347826\n"
          ],
          "name": "stdout"
        }
      ]
    }
  ]
}